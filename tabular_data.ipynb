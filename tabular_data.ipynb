{
 "cells": [
  {
   "cell_type": "code",
   "execution_count": 6,
   "metadata": {},
   "outputs": [],
   "source": [
    "# import libraries & dataset\n",
    "import pandas as pd\n",
    "df = pd.read_csv('tabular_data/AirBnbData.csv')\n",
    "\n",
    "# remove unecessary final column (created for some reason?)\n",
    "df.drop(df.columns[19], axis=1, inplace=True)\n",
    "\n",
    "# remove rows with missing data in the ratings & description column\n",
    "def remove_rows_with_missing_data():\n",
    "    df.dropna(subset=['Description', 'Cleanliness_rating', 'Accuracy_rating', 'Communication_rating', 'Location_rating', 'Check-in_rating', 'Value_rating'], inplace=True)\n",
    "\n",
    "# combine and clean the list of strings in the 'description' column into a single string\n",
    "def combine_description_strings():    \n",
    "    df['Description'] = df['Description'].str.replace('About this space', '')\n",
    "    df['Description'] = df['Description'].apply(lambda x: [item for item in eval(x) if item != ''])\n",
    "    df['Description'] = df['Description'].apply(lambda x: ''.join(x))\n",
    "\n",
    "# change NaN values in specific columns to 1\n",
    "def set_default_feature_values():\n",
    "    df.update(df[['guests', 'bedrooms', 'beds', 'bathrooms']].fillna(1))\n",
    "\n",
    "def clean_tabular_data():\n",
    "    remove_rows_with_missing_data()\n",
    "    combine_description_strings()\n",
    "    set_default_feature_values()\n",
    "\n",
    "clean_tabular_data()"
   ]
  },
  {
   "cell_type": "code",
   "execution_count": 7,
   "metadata": {},
   "outputs": [],
   "source": [
    "df = pd.read_csv('tabular_data/AirBnbData.csv')\n",
    "df.drop(df.columns[19], axis=1, inplace=True) # removes unecessary final column\n",
    "clean_tabular_data()\n",
    "df.to_csv('clean_tabular_data_2.csv')\n",
    "\n",
    "\n",
    "def load_airbnb():\n",
    "    df = pd.read_csv('tabular_data/clean_tabular_data.csv')\n",
    "    df.drop(columns=['ID', 'Category', 'Title', 'Description', 'Amenities', 'Location', 'url'], inplace=True)\n",
    "    df.drop(df.columns[0], axis=1, inplace=True)\n",
    "    features = df.drop('Price_Night', axis=1).values\n",
    "    label = df['Price_Night'].values\n",
    "    return features, label\n",
    "\n",
    "features, label = load_airbnb()"
   ]
  },
  {
   "cell_type": "code",
   "execution_count": 8,
   "metadata": {},
   "outputs": [
    {
     "name": "stdout",
     "output_type": "stream",
     "text": [
      "[[ 2.   1.   1.  ...  4.3 13.   1. ]\n",
      " [ 3.   3.   0.  ...  4.5  8.   1. ]\n",
      " [ 4.   2.   1.5 ...  4.7 51.   1. ]\n",
      " ...\n",
      " [ 4.   2.   1.5 ...  4.8 38.   2. ]\n",
      " [ 6.   3.   2.  ...  4.7 24.   2. ]\n",
      " [ 4.   2.   1.  ...  4.3 29.   2. ]]\n"
     ]
    }
   ],
   "source": [
    "print(features)"
   ]
  },
  {
   "cell_type": "code",
   "execution_count": 5,
   "metadata": {},
   "outputs": [
    {
     "name": "stdout",
     "output_type": "stream",
     "text": [
      "[ 105   92   52  132  143   94  247  104  106  126  110   85  174  139\n",
      "   96  141  309  130  499  670  168  149  280  171  238   99  413  206\n",
      "  123  125  130  222  212  151  149  249  101  311   53  179  188   66\n",
      "  134  148  224  135  138  161  107  184  112   94   61  295   58   60\n",
      "   91  153  112  170  201   49  103  270  197   44  138   54  422  218\n",
      "  157  105  137  139  100   98   98  223  230  140  297  212  500  137\n",
      "  127   73  101   56  199   38  211  112  141   82   71   73  128  500\n",
      "  145   84  107   71   36   36  210  395   40   43  122   77   92   86\n",
      "   92  510   68  105   39  474   63  102  482   66  121   40   43  368\n",
      "   73   46   10  122   46   98  139   61   72   79   19  116   34  128\n",
      "   63   95   44   43   82  161  161   91  238  432   50   62   44   42\n",
      "  382   57  434  122   33   99   52  151   49  121  193  238  147  105\n",
      "  104  102  124  137   14  100  113   52   57   27  125   66    9   23\n",
      "   23   87  141  368  143  116  254  192  241   64  168  140  303  147\n",
      "   88   74   89  150  158  119  254  118  152  121   94  275  235   70\n",
      "  102  106  105  128  211  102  133   90   96   49  170   44  119  245\n",
      "   92  125  115   72  104  133   60   58  106  119  159   80   73   59\n",
      "   83   75  100   61   86   79   88   84  109   91   45  116  143  105\n",
      "  131  138   59   88   61  249   75   72  120  104  550   81  228   70\n",
      "  108   66  144  135   75   81  187  107  108  120   93   78  105   92\n",
      "   66   64   66   62   41   72   95   89  112   66   44  130  264  196\n",
      "  105  135   80  172  138  158  150  110   90  144  107   95  132  125\n",
      "  255  137  140   93  124   78  132  120   69  108   95  150  168   71\n",
      "  143  135  143  102   50  120  177  150  125  312   97   75  209   91\n",
      "   58  119   78  117   88  163   84  113  158   87  222  194  130  125\n",
      "  129   86  113  124  250  120  145   90  136  119  100  107  164  135\n",
      "  102   58  176  129  132  139  119   94   94   99  128  250  150  152\n",
      "  175  225  230  104  170  286  215  129  116  173  179  148  128  205\n",
      "  162  425  425   93  670  124  166  141  210  148   65  249  137  311\n",
      "  675   86  120  369   80  114   69  100  200   62   84  500  568  454\n",
      "   99  186   49   62  101   44   87  113   90  296  127  113  241  372\n",
      "  210   69   72  108   64   72  160  191   69  236  126  143  122  102\n",
      "   86  120  189  109   86  132  176  125  250   93   85   54   54   89\n",
      "   53   81   97  107   65   65  217  105  107  120  114  112  225  103\n",
      "  790  133  115   73  297  135   95  120  181  238  174  120  189  297\n",
      "  186   81   79  111  163   94  364  184  163  120  143  120  148  130\n",
      "  150   90   64  164  144   92  166  253  146  148  178  220  251   82\n",
      "   69  164   85  354  141   72   75  181   62  118  140   71  399  118\n",
      "  208   48  110   41  103  112   50  149  226   86  276  171  146   87\n",
      "   63   96  125  282  132   99  330   47  162  329  233  478   77   38\n",
      "   93  220  670   92  165  187   84   65  210  230   31    8  254   33\n",
      "  274  187   91   60  173   58  167   51   21   45   35   76  278   33\n",
      "  119  123   50  228   37  147  143   75   11   25  153  181   88   85\n",
      "   82   49 1112  152  183   18   69  345  116   87   89   49   63  192\n",
      "  152   92  193   27   33   58  320  320   86   53  584   91  234   53\n",
      "   55  123  251  119  307  345  153  876  318   76    8  138  537   94\n",
      "   78  134   81  134   82   83   74   87  432   26  307   49  128   43\n",
      "   43   87   78  105  175   90   78   30  189  216  108  211   62  588\n",
      "  143  232  385  307  150  189   98   67   64  100  137   71  190  198\n",
      "  150  321  363   77  149  120   50   84   16   97   51   32  246  181\n",
      "   76  113   99   68  128  266  115  191  188  643  150 1132  694  166\n",
      "  165   98  108  101  275  194  252  107   79  188   89  120   74  149\n",
      "  533  231  102  350  286  132  114  250  750  216  150  211   68   67\n",
      "  398   87  203  353   79  190  171  188  329  121  120   49   75  114\n",
      "   80  141  225   76  111  250  108   98  140  956  171  146  127  126\n",
      "   98  185   66   76   78  249  100  100  107  113  221  489  326  382\n",
      "  299  162  273   84  215   87   65  175  122  482  152   98  320  233\n",
      "  144   64  150   77  181   54  143   56   86  152   98  795  312   34\n",
      "  180  119  151  130  143  581  739  117  165  121  108  129  240   78\n",
      "  113   80  104]\n"
     ]
    }
   ],
   "source": [
    "print(label)"
   ]
  }
 ],
 "metadata": {
  "kernelspec": {
   "display_name": "Python 3.9.12 ('base')",
   "language": "python",
   "name": "python3"
  },
  "language_info": {
   "codemirror_mode": {
    "name": "ipython",
    "version": 3
   },
   "file_extension": ".py",
   "mimetype": "text/x-python",
   "name": "python",
   "nbconvert_exporter": "python",
   "pygments_lexer": "ipython3",
   "version": "3.9.12"
  },
  "orig_nbformat": 4,
  "vscode": {
   "interpreter": {
    "hash": "8bdb7841ccbd10ec9ea6696eb5e6b5e35a5ff4ac347613cdbf75b21bbe8a6496"
   }
  }
 },
 "nbformat": 4,
 "nbformat_minor": 2
}
