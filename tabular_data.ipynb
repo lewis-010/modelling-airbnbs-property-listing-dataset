{
 "cells": [
  {
   "cell_type": "code",
   "execution_count": 9,
   "metadata": {},
   "outputs": [],
   "source": [
    "# import libraries & dataset\n",
    "import pandas as pd\n",
    "df = pd.read_csv('tabular_data/AirBnbData.csv')\n",
    "\n",
    "# remove unecessary final column (created for some reason?)\n",
    "df.drop(df.columns[19], axis=1, inplace=True)\n",
    "\n",
    "# remove rows with missing data in the ratings & description column\n",
    "def remove_rows_with_missing_data():\n",
    "    df.dropna(subset=['Description', 'Cleanliness_rating', 'Accuracy_rating', 'Communication_rating', 'Location_rating', 'Check-in_rating', 'Value_rating'], inplace=True)\n",
    "\n",
    "# combine and clean the list of strings in the 'description' column into a single string\n",
    "def combine_description_strings():    \n",
    "    df['Description'] = df['Description'].str.replace('About this space', '')\n",
    "    df['Description'] = df['Description'].apply(lambda x: [item for item in eval(x) if item != ''])\n",
    "    df['Description'] = df['Description'].apply(lambda x: ''.join(x))\n",
    "\n",
    "# change NaN values in specific columns to 1\n",
    "def set_default_feature_values():\n",
    "    df.update(df[['guests', 'bedrooms', 'beds', 'bathrooms']].fillna(1))\n",
    "\n",
    "def clean_tabular_data():\n",
    "    remove_rows_with_missing_data()\n",
    "    combine_description_strings()\n",
    "    set_default_feature_values()\n",
    "\n",
    "clean_tabular_data()"
   ]
  }
 ],
 "metadata": {
  "kernelspec": {
   "display_name": "Python 3.9.12 ('base')",
   "language": "python",
   "name": "python3"
  },
  "language_info": {
   "codemirror_mode": {
    "name": "ipython",
    "version": 3
   },
   "file_extension": ".py",
   "mimetype": "text/x-python",
   "name": "python",
   "nbconvert_exporter": "python",
   "pygments_lexer": "ipython3",
   "version": "3.9.12 (main, Apr  4 2022, 05:22:27) [MSC v.1916 64 bit (AMD64)]"
  },
  "orig_nbformat": 4,
  "vscode": {
   "interpreter": {
    "hash": "8bdb7841ccbd10ec9ea6696eb5e6b5e35a5ff4ac347613cdbf75b21bbe8a6496"
   }
  }
 },
 "nbformat": 4,
 "nbformat_minor": 2
}
